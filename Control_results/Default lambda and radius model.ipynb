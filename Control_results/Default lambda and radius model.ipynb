{
 "cells": [
  {
   "cell_type": "code",
   "execution_count": 1,
   "outputs": [
    {
     "name": "stderr",
     "output_type": "stream",
     "text": [
      "C:\\Users\\ashis\\AppData\\Local\\Programs\\Python\\Python310\\lib\\site-packages\\pymatgen\\analysis\\phase_diagram.py:24: TqdmExperimentalWarning: Using `tqdm.autonotebook.tqdm` in notebook mode. Use `tqdm.tqdm` instead to force console mode (e.g. in jupyter console)\n",
      "  from tqdm.autonotebook import tqdm\n",
      "C:\\Users\\ashis\\AppData\\Local\\Programs\\Python\\Python310\\lib\\site-packages\\pymatgen\\ext\\matproj.py:179: UserWarning: You are using the legacy MPRester, which is deprecated. If you are not a power user, ie., you do not have a lot of legacy code that uses many different MPRester methods, it is recommended you get a new API key from the new Materials Project front end. Once you use get your new API key, using the new API key will automatically route you to using the new MPRester.\n",
      "  warnings.warn(\n"
     ]
    }
   ],
   "source": [
    "import itertools\n",
    "import json\n",
    "import logging\n",
    "import os\n",
    "import pickle\n",
    "import unittest\n",
    "from contextlib import contextmanager\n",
    "from operator import itemgetter\n",
    "from random import sample\n",
    "\n",
    "import numpy as np\n",
    "import pandas as pd\n",
    "import matplotlib as mpl\n",
    "import matplotlib.pyplot as plt\n",
    "import pymatgen\n",
    "from pymatgen.ext.matproj import MPRester\n",
    "from pymatgen.core import Structure\n",
    "from pandas.testing import assert_frame_equal, assert_series_equal\n",
    "from pymatgen.analysis.structure_prediction.substitution_probability import SubstitutionProbability\n",
    "from pymatgen.analysis.local_env import CrystalNN\n",
    "\n",
    "\n",
    "import smact\n",
    "from smact import Species\n",
    "from smact.structure_prediction import prediction, database, mutation, probability_models, structure, utilities\n",
    "from smact.structure_prediction.database import StructureDB\n",
    "from smact.structure_prediction.mutation import CationMutator\n",
    "from smact.structure_prediction.prediction import StructurePredictor\n",
    "from smact.structure_prediction.structure import SmactStructure\n",
    "from smact.structure_prediction.utilities import parse_spec, unparse_spec\n",
    "\n",
    "from smact import Element,element_dictionary, ordered_elements, neutral_ratios\n",
    "from smact.screening import smact_filter, pauling_test\n",
    "\n",
    "from datetime import datetime\n",
    "from pathos.multiprocessing import ProcessPool as Pool\n",
    "\n",
    "m = MPRester(\"Z51OJasyeWwk4pci\")"
   ],
   "metadata": {
    "collapsed": false,
    "pycharm": {
     "name": "#%%\n"
    }
   }
  },
  {
   "cell_type": "code",
   "execution_count": 2,
   "outputs": [
    {
     "name": "stdout",
     "output_type": "stream",
     "text": [
      "The number of  allowed elements for (A) are: 76 \n",
      "\n",
      "The number of allowed elements for {B} are':76 \n",
      "\n"
     ]
    }
   ],
   "source": [
    "#Generate the dictionary of elements\n",
    "all_el=element_dictionary(elements=ordered_elements(1,83)) #A dictionary of all element objects\n",
    "symbols_list=list(all_el.keys())\n",
    "all_els=[all_el[symbol] for symbol in symbols_list]\n",
    "dont_want=[\"He\",\"Ne\",\"Ar\",\"Kr\",\"Xe\",\"Pm\",\"Tc\"]\n",
    "\n",
    "for unwanted in dont_want:\n",
    "    symbols_list.remove(unwanted)\n",
    "all_els=[all_el[symbol] for symbol in symbols_list]\n",
    "coord_els=[el.coord_envs for el in all_els]\n",
    "\n",
    "#Elements for A and B\n",
    "A_els=[]\n",
    "B_els=[]\n",
    "\n",
    "for el in all_els:\n",
    "        A_els.append(el)\n",
    "        B_els.append(el)\n",
    "print(f\"The number of  allowed elements for (A) are: {len(A_els)} \\n\" )\n",
    "print(\"The number of allowed elements for {B} are':\" f\"{len(B_els)} \\n\" )"
   ],
   "metadata": {
    "collapsed": false,
    "pycharm": {
     "name": "#%%\n"
    }
   }
  },
  {
   "cell_type": "code",
   "execution_count": 3,
   "outputs": [
    {
     "name": "stdout",
     "output_type": "stream",
     "text": [
      "We have generated 5776 potential compounds\n"
     ]
    }
   ],
   "source": [
    "#Generate the A-B combinations\n",
    "\n",
    "AB_pairs = [(x,y) for x in A_els for y in B_els]\n",
    "\n",
    "# Prove to ourselves that we have all unique chemical systems\n",
    "print(f\"We have generated {len(AB_pairs)} potential compounds\")"
   ],
   "metadata": {
    "collapsed": false,
    "pycharm": {
     "name": "#%%\n"
    }
   }
  },
  {
   "cell_type": "code",
   "execution_count": 4,
   "outputs": [],
   "source": [
    "def smact_filter(els, stoichs=[[1],[1]], species_unique=True):\n",
    "    \"\"\"Function that applies the charge neutrality and electronegativity\n",
    "    tests in one go for simple application in external scripts that\n",
    "    wish to apply the general 'smact test'.\n",
    "\n",
    "    Args:\n",
    "        els (tuple/list): A list of smact.Element objects\n",
    "        threshold (int): Threshold for stoichiometry limit, default = 8\n",
    "        species_unique (bool): Whether or not to consider elements in different\n",
    "        oxidation states as unique in the results.\n",
    "    Returns:\n",
    "        allowed_comps (list): Allowed compositions for that chemical system\n",
    "        in the form [(elements), (oxidation states), (ratios)] if species_unique=True\n",
    "        or in the form [(elements), (ratios)] if species_unique=False.\n",
    "    \"\"\"\n",
    "    compositions = []\n",
    "    import itertools\n",
    "    from smact import Element,element_dictionary, ordered_elements, neutral_ratios\n",
    "    from smact.screening import smact_filter, pauling_test\n",
    "\n",
    "    # Get symbols and electronegativities\n",
    "    symbols = tuple(e.symbol for e in els)\n",
    "    electronegs = [e.pauling_eneg for e in els]\n",
    "    ox_combos = [e.oxidation_states for e in els]\n",
    "    for ox_states in itertools.product(*ox_combos):\n",
    "        # Test for charge balance\n",
    "        cn_e, cn_r = neutral_ratios(ox_states, stoichs=stoichs)\n",
    "        # Electronegativity test\n",
    "        if cn_e:\n",
    "            electroneg_OK = pauling_test(ox_states, electronegs)\n",
    "            if electroneg_OK:\n",
    "                for ratio in cn_r:\n",
    "                    compositions.append(tuple([symbols,ox_states,ratio]))\n",
    "\n",
    "    # Return list depending on whether we are interested in unique species combinations\n",
    "    # or just unique element combinations.\n",
    "    if species_unique:\n",
    "        return compositions\n",
    "    else:\n",
    "        compositions = [(i[0], i[2]) for i in compositions]\n",
    "        compositions = list(set(compositions))\n",
    "        return compositions"
   ],
   "metadata": {
    "collapsed": false,
    "pycharm": {
     "name": "#%%\n"
    }
   }
  },
  {
   "cell_type": "code",
   "execution_count": 5,
   "outputs": [
    {
     "name": "stdout",
     "output_type": "stream",
     "text": [
      "Time taken to generate list:  0:00:00.657527\n"
     ]
    }
   ],
   "source": [
    "# Use multiprocessing and smact_filter to quickly generate our list of compositions\n",
    "start = datetime.now()\n",
    "if __name__ == '__main__':   # Always use pool protected in an if statement\n",
    "    with Pool(4) as p:    # start 4 worker processes\n",
    "        result = p.map(smact_filter, AB_pairs)\n",
    "print('Time taken to generate list:  {0}'.format(datetime.now()-start))"
   ],
   "metadata": {
    "collapsed": false,
    "pycharm": {
     "name": "#%%\n"
    }
   }
  },
  {
   "cell_type": "code",
   "execution_count": 6,
   "outputs": [
    {
     "name": "stdout",
     "output_type": "stream",
     "text": [
      "Number of compositions: --> 4782 <--\n",
      "Each list entry looks like this:\n",
      "  elements, oxidation states, stoichiometries\n",
      "(('H', 'Li'), (-1, 1), (1, 1))\n",
      "(('H', 'Be'), (-1, 1), (1, 1))\n",
      "(('H', 'B'), (-1, 1), (1, 1))\n",
      "(('H', 'C'), (1, -1), (1, 1))\n",
      "(('H', 'N'), (1, -1), (1, 1))\n"
     ]
    }
   ],
   "source": [
    "# Flatten the list of lists\n",
    "flat_list = [item for sublist in result for item in sublist]\n",
    "print('Number of compositions: --> {0} <--'.format(len(flat_list)))\n",
    "print('Each list entry looks like this:\\n  elements, oxidation states, stoichiometries')\n",
    "for i in flat_list[:5]:\n",
    "    print(i)"
   ],
   "metadata": {
    "collapsed": false,
    "pycharm": {
     "name": "#%%\n"
    }
   }
  },
  {
   "cell_type": "code",
   "execution_count": 7,
   "outputs": [
    {
     "name": "stdout",
     "output_type": "stream",
     "text": [
      "Each list entry now looks like this: \n",
      "LiH\n",
      "BeH\n",
      "BH\n",
      "HC\n",
      "HN\n"
     ]
    }
   ],
   "source": [
    "def comp_maker(comp):\n",
    "    from pymatgen.core import Composition\n",
    "    form = []\n",
    "    for el, ammt in zip(comp[0], comp[2]):\n",
    "        form.append(el)\n",
    "        form.append(ammt)\n",
    "    form = ''.join(str(e) for e in form)\n",
    "    pmg_form = Composition(form).reduced_formula\n",
    "    return pmg_form\n",
    "\n",
    "\n",
    "if __name__ == '__main__':\n",
    "    with Pool(4) as p:\n",
    "        pretty_formulas = p.map(comp_maker, flat_list)\n",
    "\n",
    "print('Each list entry now looks like this: ')\n",
    "for i in pretty_formulas[:5]:\n",
    "    print(i)"
   ],
   "metadata": {
    "collapsed": false,
    "pycharm": {
     "name": "#%%\n"
    }
   }
  },
  {
   "cell_type": "code",
   "execution_count": 8,
   "outputs": [
    {
     "data": {
      "text/plain": "  Pretty Formula    A    B\n0             HC  H1+  C1-\n1             HN  H1+  N1-\n2           H2O2  H1+  O1-\n3             HF  H1+  F1-\n4             HS  H1+  S1-",
      "text/html": "<div>\n<style scoped>\n    .dataframe tbody tr th:only-of-type {\n        vertical-align: middle;\n    }\n\n    .dataframe tbody tr th {\n        vertical-align: top;\n    }\n\n    .dataframe thead th {\n        text-align: right;\n    }\n</style>\n<table border=\"1\" class=\"dataframe\">\n  <thead>\n    <tr style=\"text-align: right;\">\n      <th></th>\n      <th>Pretty Formula</th>\n      <th>A</th>\n      <th>B</th>\n    </tr>\n  </thead>\n  <tbody>\n    <tr>\n      <th>0</th>\n      <td>HC</td>\n      <td>H1+</td>\n      <td>C1-</td>\n    </tr>\n    <tr>\n      <th>1</th>\n      <td>HN</td>\n      <td>H1+</td>\n      <td>N1-</td>\n    </tr>\n    <tr>\n      <th>2</th>\n      <td>H2O2</td>\n      <td>H1+</td>\n      <td>O1-</td>\n    </tr>\n    <tr>\n      <th>3</th>\n      <td>HF</td>\n      <td>H1+</td>\n      <td>F1-</td>\n    </tr>\n    <tr>\n      <th>4</th>\n      <td>HS</td>\n      <td>H1+</td>\n      <td>S1-</td>\n    </tr>\n  </tbody>\n</table>\n</div>"
     },
     "execution_count": 8,
     "metadata": {},
     "output_type": "execute_result"
    }
   ],
   "source": [
    "species=[]\n",
    "A=[]\n",
    "B=[]\n",
    "for i in range(len(flat_list)):\n",
    "    species.append(pretty_formulas[i])\n",
    "    A.append((unparse_spec((flat_list[i][0][0],flat_list[i][1][0]))))\n",
    "    B.append((unparse_spec((flat_list[i][0][1],flat_list[i][1][1]))))\n",
    "\n",
    "columns=[\"Pretty Formula\",\"A\",\"B\"]\n",
    "df_list=[[species[i], A[i], B[i]] for i in range(len(species))]\n",
    "df=pd.DataFrame(data=df_list, columns=columns)\n",
    "df=df.reset_index(drop=True)\n",
    "\n",
    "#Keeping only the cations in Column A and Anions in Column B\n",
    "df= df[df['A'].str.contains('\\+')]\n",
    "df.to_csv('Comps_control.csv', index=False)\n",
    "comps = pd.read_csv('Comps_control.csv')\n",
    "comps.head()"
   ],
   "metadata": {
    "collapsed": false,
    "pycharm": {
     "name": "#%%\n"
    }
   }
  },
  {
   "cell_type": "code",
   "execution_count": 9,
   "outputs": [],
   "source": [
    "#This creates database object\n",
    "DB=StructureDB(\"Structure_Database.db\")\n",
    "\n",
    "#These create tables within the database, uncomment the next line if creating new table in a new database\n",
    "#DB.add_table(\"Experimental\")"
   ],
   "metadata": {
    "collapsed": false,
    "pycharm": {
     "name": "#%%\n"
    }
   }
  },
  {
   "cell_type": "code",
   "execution_count": 10,
   "outputs": [],
   "source": [
    "#Using default lambda values, instantiate Cation Mutator and Structure Predictor\n",
    "CM=CationMutator.from_json()\n",
    "SP=StructurePredictor(CM, DB, \"Experimental\")"
   ],
   "metadata": {
    "collapsed": false,
    "pycharm": {
     "name": "#%%\n"
    }
   }
  },
  {
   "cell_type": "code",
   "execution_count": 11,
   "outputs": [
    {
     "name": "stdout",
     "output_type": "stream",
     "text": [
      "Time taken to predict the crystal structures of our search space of 269 with a threshold of 0.0001 is 0:00:01.336073 \n",
      "\n"
     ]
    }
   ],
   "source": [
    "#Checking if compositions exist in the probability dataframe and then using Structure Predictor on a list of test compositions\n",
    "cond_df = CM.complete_cond_probs()\n",
    "ions = list(cond_df.columns)\n",
    "\n",
    "comps_copy = comps[['A', 'B']]\n",
    "\n",
    "df_copy_bool = comps_copy.isin(ions)\n",
    "x = comps_copy[df_copy_bool].fillna(0)\n",
    "x = x[x.A != 0]\n",
    "x = x[x.B != 0]\n",
    "x = x.reset_index(drop=True)\n",
    "inner_merged=pd.merge(x, comps)\n",
    "#Create a list of test species\n",
    "test_specs_list=[[parse_spec(inner_merged[\"A\"][i]),parse_spec(inner_merged[\"B\"][i])] for i in range(inner_merged.shape[0])]\n",
    "\n",
    "#Set up a for loop to store\n",
    "from datetime import datetime\n",
    "start = datetime.now()\n",
    "from operator import itemgetter\n",
    "preds=[]\n",
    "parents_list=[]\n",
    "probs_list=[]\n",
    "for test_specs in test_specs_list:\n",
    "    predictions=list(SP.predict_structs(test_specs, thresh=10e-4, include_same=False ))\n",
    "    predictions.sort(key=itemgetter(1), reverse=True)\n",
    "    parents = [x[2].composition() for x in predictions]\n",
    "    probs = [x[1] for x in predictions]\n",
    "    preds.append(predictions)\n",
    "    parents_list.append(parents)\n",
    "    probs_list.append(probs)\n",
    "print(f\"Time taken to predict the crystal structures of our search space of {inner_merged.shape[0]} with a threshold of 0.0001 is {datetime.now()-start} \")\n",
    "#print(parents_list)\n",
    "print(\"\")\n",
    "#print(probs_list)"
   ],
   "metadata": {
    "collapsed": false,
    "pycharm": {
     "name": "#%%\n"
    }
   }
  },
  {
   "cell_type": "code",
   "execution_count": 12,
   "outputs": [
    {
     "data": {
      "text/plain": "      A     B Pretty Formula  \\\n0   H1+   F1-             HF   \n1   H1+  Cl1-            HCl   \n2   H1+  Br1-            HBr   \n3   H1+   I1-             HI   \n4  Li1+   F1-            LiF   \n\n                                 predicted_structure  probability  \\\n0  F1- H1+\\n1.0\\n2.656991 -3.486846 0.0\\n2.656991...     0.168561   \n1  Cl1- H1+\\n1.0\\n6.160672 6.203084 0.0\\n-6.16067...     0.228937   \n2  Br1- H1+\\n1.0\\n6.160672 6.203084 0.0\\n-6.16067...     0.177099   \n3  H1+ I1-\\n1.0\\n2.785687 -3.663721 0.0\\n2.785687...     0.138700   \n4  F1- Li1+\\n1.0\\n0.0 2.576374 2.576374\\n2.576374...     0.168561   \n\n  Parent formula                                   parent_structure  \n0            HCl  Cl1- H1+\\n1.0\\n2.656991 -3.486846 0.0\\n2.65699...  \n1             HI  H1+ I1-\\n1.0\\n6.160672 6.203084 0.0\\n-6.160672...  \n2             HI  H1+ I1-\\n1.0\\n6.160672 6.203084 0.0\\n-6.160672...  \n3            HBr  Br1- H1+\\n1.0\\n2.785687 -3.663721 0.0\\n2.78568...  \n4           LiCl  Cl1- Li1+\\n1.0\\n0.0 2.576374 2.576374\\n2.57637...  ",
      "text/html": "<div>\n<style scoped>\n    .dataframe tbody tr th:only-of-type {\n        vertical-align: middle;\n    }\n\n    .dataframe tbody tr th {\n        vertical-align: top;\n    }\n\n    .dataframe thead th {\n        text-align: right;\n    }\n</style>\n<table border=\"1\" class=\"dataframe\">\n  <thead>\n    <tr style=\"text-align: right;\">\n      <th></th>\n      <th>A</th>\n      <th>B</th>\n      <th>Pretty Formula</th>\n      <th>predicted_structure</th>\n      <th>probability</th>\n      <th>Parent formula</th>\n      <th>parent_structure</th>\n    </tr>\n  </thead>\n  <tbody>\n    <tr>\n      <th>0</th>\n      <td>H1+</td>\n      <td>F1-</td>\n      <td>HF</td>\n      <td>F1- H1+\\n1.0\\n2.656991 -3.486846 0.0\\n2.656991...</td>\n      <td>0.168561</td>\n      <td>HCl</td>\n      <td>Cl1- H1+\\n1.0\\n2.656991 -3.486846 0.0\\n2.65699...</td>\n    </tr>\n    <tr>\n      <th>1</th>\n      <td>H1+</td>\n      <td>Cl1-</td>\n      <td>HCl</td>\n      <td>Cl1- H1+\\n1.0\\n6.160672 6.203084 0.0\\n-6.16067...</td>\n      <td>0.228937</td>\n      <td>HI</td>\n      <td>H1+ I1-\\n1.0\\n6.160672 6.203084 0.0\\n-6.160672...</td>\n    </tr>\n    <tr>\n      <th>2</th>\n      <td>H1+</td>\n      <td>Br1-</td>\n      <td>HBr</td>\n      <td>Br1- H1+\\n1.0\\n6.160672 6.203084 0.0\\n-6.16067...</td>\n      <td>0.177099</td>\n      <td>HI</td>\n      <td>H1+ I1-\\n1.0\\n6.160672 6.203084 0.0\\n-6.160672...</td>\n    </tr>\n    <tr>\n      <th>3</th>\n      <td>H1+</td>\n      <td>I1-</td>\n      <td>HI</td>\n      <td>H1+ I1-\\n1.0\\n2.785687 -3.663721 0.0\\n2.785687...</td>\n      <td>0.138700</td>\n      <td>HBr</td>\n      <td>Br1- H1+\\n1.0\\n2.785687 -3.663721 0.0\\n2.78568...</td>\n    </tr>\n    <tr>\n      <th>4</th>\n      <td>Li1+</td>\n      <td>F1-</td>\n      <td>LiF</td>\n      <td>F1- Li1+\\n1.0\\n0.0 2.576374 2.576374\\n2.576374...</td>\n      <td>0.168561</td>\n      <td>LiCl</td>\n      <td>Cl1- Li1+\\n1.0\\n0.0 2.576374 2.576374\\n2.57637...</td>\n    </tr>\n  </tbody>\n</table>\n</div>"
     },
     "execution_count": 12,
     "metadata": {},
     "output_type": "execute_result"
    }
   ],
   "source": [
    "#Storing and filtering the results in dataframe\n",
    "pred_structs = []\n",
    "probs = []\n",
    "parent_structs = []\n",
    "parent_pretty_formula = []\n",
    "for i in preds:\n",
    "    if len(i) == 0:\n",
    "        pred_structs.append(None)\n",
    "        probs.append(None)\n",
    "        parent_structs.append(None)\n",
    "        parent_pretty_formula.append(None)\n",
    "    else:\n",
    "        pred_structs.append(i[0][0].as_poscar())\n",
    "        probs.append(i[0][1])\n",
    "        parent_structs.append(i[0][2].as_poscar())\n",
    "        parent_pretty_formula.append(Structure.from_str(i[0][2].as_poscar(), fmt=\"poscar\").composition.reduced_formula)\n",
    "\n",
    "#add results to dataframe\n",
    "inner_merged[\"predicted_structure\"] = pred_structs\n",
    "inner_merged[\"probability\"] = probs\n",
    "inner_merged[\"Parent formula\"] = parent_pretty_formula\n",
    "inner_merged[\"parent_structure\"] = parent_structs\n",
    "results=inner_merged.dropna()\n",
    "results=results.reset_index(drop=True)\n",
    "results.head()"
   ],
   "metadata": {
    "collapsed": false,
    "pycharm": {
     "name": "#%%\n"
    }
   }
  },
  {
   "cell_type": "code",
   "execution_count": 13,
   "outputs": [
    {
     "name": "stderr",
     "output_type": "stream",
     "text": [
      "C:\\Users\\ashis\\AppData\\Local\\Programs\\Python\\Python310\\lib\\site-packages\\pymatgen\\analysis\\local_env.py:4121: UserWarning: No oxidation states specified on sites! For better results, set the site oxidation states in the structure.\n",
      "  warnings.warn(\n",
      "C:\\Users\\ashis\\AppData\\Local\\Programs\\Python\\Python310\\lib\\site-packages\\pymatgen\\analysis\\local_env.py:3924: UserWarning: CrystalNN: cannot locate an appropriate radius, covalent or atomic radii will be used, this can lead to non-optimal results.\n",
      "  warnings.warn(\n"
     ]
    },
    {
     "name": "stdout",
     "output_type": "stream",
     "text": [
      "The prediction accuracy is 69.89247311827957%\n"
     ]
    }
   ],
   "source": [
    "#Validating the predicted coordination numbers with the 536 experimental coordination numbers in the database\n",
    "\n",
    "prediction_accuracy = []\n",
    "CN_exp = []\n",
    "CN_pred = []\n",
    "crystal = CrystalNN()\n",
    "for ind in results.index:\n",
    "    comp = SmactStructure.from_poscar(results['predicted_structure'][ind]).composition()\n",
    "    experimental_structure = DB.get_structs(comp,'Experimental')\n",
    "    if len(experimental_structure)!=0:\n",
    "        experimental_structure = Structure.from_str(experimental_structure[0].as_poscar(), fmt='poscar')\n",
    "        cn_exp = crystal.get_cn(experimental_structure, n=0)\n",
    "        predicted_structure = Structure.from_str(results['predicted_structure'][ind], fmt='poscar')\n",
    "        cn_pred = crystal.get_cn(predicted_structure, n=0)\n",
    "\n",
    "        CN_exp.append(cn_exp)\n",
    "        CN_pred.append(cn_pred)\n",
    "\n",
    "        if cn_exp == cn_pred:\n",
    "            prediction_accuracy.append('Correct')\n",
    "        else:\n",
    "            prediction_accuracy.append('Incorrect')\n",
    "\n",
    "success_percent = (prediction_accuracy.count('Correct')/len(prediction_accuracy))*100\n",
    "print(f'The prediction accuracy is {success_percent}%')"
   ],
   "metadata": {
    "collapsed": false,
    "pycharm": {
     "name": "#%%\n"
    }
   }
  },
  {
   "cell_type": "code",
   "execution_count": 14,
   "outputs": [
    {
     "data": {
      "text/plain": "      A     B Pretty Formula  \\\n0   H1+   F1-             HF   \n1   H1+  Cl1-            HCl   \n2   H1+  Br1-            HBr   \n3   H1+   I1-             HI   \n4  Li1+   F1-            LiF   \n\n                                 predicted_structure  probability  \\\n0  F1- H1+\\n1.0\\n2.656991 -3.486846 0.0\\n2.656991...     0.168561   \n1  Cl1- H1+\\n1.0\\n6.160672 6.203084 0.0\\n-6.16067...     0.228937   \n2  Br1- H1+\\n1.0\\n6.160672 6.203084 0.0\\n-6.16067...     0.177099   \n3  H1+ I1-\\n1.0\\n2.785687 -3.663721 0.0\\n2.785687...     0.138700   \n4  F1- Li1+\\n1.0\\n0.0 2.576374 2.576374\\n2.576374...     0.168561   \n\n  Parent formula                                   parent_structure In DB?  \\\n0            HCl  Cl1- H1+\\n1.0\\n2.656991 -3.486846 0.0\\n2.65699...    Yes   \n1             HI  H1+ I1-\\n1.0\\n6.160672 6.203084 0.0\\n-6.160672...    Yes   \n2             HI  H1+ I1-\\n1.0\\n6.160672 6.203084 0.0\\n-6.160672...    Yes   \n3            HBr  Br1- H1+\\n1.0\\n2.785687 -3.663721 0.0\\n2.78568...    Yes   \n4           LiCl  Cl1- Li1+\\n1.0\\n0.0 2.576374 2.576374\\n2.57637...    Yes   \n\n   Experimental CN  Predicted CN Validation  \n0                1             1    Correct  \n1                1             1    Correct  \n2                1             1    Correct  \n3                1             2  Incorrect  \n4                6             6    Correct  ",
      "text/html": "<div>\n<style scoped>\n    .dataframe tbody tr th:only-of-type {\n        vertical-align: middle;\n    }\n\n    .dataframe tbody tr th {\n        vertical-align: top;\n    }\n\n    .dataframe thead th {\n        text-align: right;\n    }\n</style>\n<table border=\"1\" class=\"dataframe\">\n  <thead>\n    <tr style=\"text-align: right;\">\n      <th></th>\n      <th>A</th>\n      <th>B</th>\n      <th>Pretty Formula</th>\n      <th>predicted_structure</th>\n      <th>probability</th>\n      <th>Parent formula</th>\n      <th>parent_structure</th>\n      <th>In DB?</th>\n      <th>Experimental CN</th>\n      <th>Predicted CN</th>\n      <th>Validation</th>\n    </tr>\n  </thead>\n  <tbody>\n    <tr>\n      <th>0</th>\n      <td>H1+</td>\n      <td>F1-</td>\n      <td>HF</td>\n      <td>F1- H1+\\n1.0\\n2.656991 -3.486846 0.0\\n2.656991...</td>\n      <td>0.168561</td>\n      <td>HCl</td>\n      <td>Cl1- H1+\\n1.0\\n2.656991 -3.486846 0.0\\n2.65699...</td>\n      <td>Yes</td>\n      <td>1</td>\n      <td>1</td>\n      <td>Correct</td>\n    </tr>\n    <tr>\n      <th>1</th>\n      <td>H1+</td>\n      <td>Cl1-</td>\n      <td>HCl</td>\n      <td>Cl1- H1+\\n1.0\\n6.160672 6.203084 0.0\\n-6.16067...</td>\n      <td>0.228937</td>\n      <td>HI</td>\n      <td>H1+ I1-\\n1.0\\n6.160672 6.203084 0.0\\n-6.160672...</td>\n      <td>Yes</td>\n      <td>1</td>\n      <td>1</td>\n      <td>Correct</td>\n    </tr>\n    <tr>\n      <th>2</th>\n      <td>H1+</td>\n      <td>Br1-</td>\n      <td>HBr</td>\n      <td>Br1- H1+\\n1.0\\n6.160672 6.203084 0.0\\n-6.16067...</td>\n      <td>0.177099</td>\n      <td>HI</td>\n      <td>H1+ I1-\\n1.0\\n6.160672 6.203084 0.0\\n-6.160672...</td>\n      <td>Yes</td>\n      <td>1</td>\n      <td>1</td>\n      <td>Correct</td>\n    </tr>\n    <tr>\n      <th>3</th>\n      <td>H1+</td>\n      <td>I1-</td>\n      <td>HI</td>\n      <td>H1+ I1-\\n1.0\\n2.785687 -3.663721 0.0\\n2.785687...</td>\n      <td>0.138700</td>\n      <td>HBr</td>\n      <td>Br1- H1+\\n1.0\\n2.785687 -3.663721 0.0\\n2.78568...</td>\n      <td>Yes</td>\n      <td>1</td>\n      <td>2</td>\n      <td>Incorrect</td>\n    </tr>\n    <tr>\n      <th>4</th>\n      <td>Li1+</td>\n      <td>F1-</td>\n      <td>LiF</td>\n      <td>F1- Li1+\\n1.0\\n0.0 2.576374 2.576374\\n2.576374...</td>\n      <td>0.168561</td>\n      <td>LiCl</td>\n      <td>Cl1- Li1+\\n1.0\\n0.0 2.576374 2.576374\\n2.57637...</td>\n      <td>Yes</td>\n      <td>6</td>\n      <td>6</td>\n      <td>Correct</td>\n    </tr>\n  </tbody>\n</table>\n</div>"
     },
     "execution_count": 14,
     "metadata": {},
     "output_type": "execute_result"
    }
   ],
   "source": [
    "#filtering results to include only those that match structures in the Database\n",
    "\n",
    "in_db=[]\n",
    "for i in results[\"predicted_structure\"]:\n",
    "    comp_=SmactStructure.from_poscar(i).composition()\n",
    "    if len(DB.get_structs(comp_, \"Experimental\"))!=0:\n",
    "        in_db.append(\"Yes\")\n",
    "    else:\n",
    "        in_db.append(\"No\")\n",
    "results[\"In DB?\"]=in_db\n",
    "\n",
    "filtered_results = results[results['In DB?']=='Yes']\n",
    "filtered_results = filtered_results.reset_index(drop=True)\n",
    "filtered_results['Experimental CN'] = CN_exp\n",
    "filtered_results['Predicted CN'] = CN_pred\n",
    "filtered_results['Validation'] = prediction_accuracy\n",
    "filtered_results.to_csv('Data-mined_lambda_results.csv')\n",
    "filtered_results.head()"
   ],
   "metadata": {
    "collapsed": false,
    "pycharm": {
     "name": "#%%\n"
    }
   }
  },
  {
   "cell_type": "code",
   "execution_count": 15,
   "outputs": [
    {
     "data": {
      "text/plain": "<Figure size 12000x8000 with 0 Axes>"
     },
     "metadata": {},
     "output_type": "display_data"
    },
    {
     "data": {
      "text/plain": "<Figure size 720x720 with 1 Axes>",
      "image/png": "[encoded data removed]"
     },
     "metadata": {
      "needs_background": "light"
     },
     "output_type": "display_data"
    }
   ],
   "source": [
    "#for visualising the predicted co-ordination numbers\n",
    "\n",
    "import matplotlib.pyplot as plt\n",
    "\n",
    "cn_df = filtered_results[['Experimental CN', 'Predicted CN']]\n",
    "temp1 = pd.DataFrame(cn_df['Experimental CN'].value_counts())\n",
    "temp1.index.name = 'Co-ordination numbers'\n",
    "temp2 = pd.DataFrame(cn_df['Predicted CN'].value_counts())\n",
    "temp2.index.name = 'Co-ordination numbers'\n",
    "for_plot = temp2.merge(temp1, how='left', left_on='Co-ordination numbers', right_on='Co-ordination numbers')\n",
    "indices = list(range(len(for_plot)))\n",
    "for_plot['index'] = indices\n",
    "for_plot = for_plot.reset_index()\n",
    "del for_plot['index']\n",
    "for_plot = for_plot.sort_values('Co-ordination numbers', ascending = True).reset_index(drop=True)\n",
    "mpl.rc_file_defaults()\n",
    "plt.rcParams.update({'font.size': 15})\n",
    "plt.figure(dpi = 2000)\n",
    "for_plot.plot(x = 'Co-ordination numbers', y=['Predicted CN','Experimental CN'], kind='bar', figsize = (10,10), ylabel = 'Number of materials')\n",
    "plt.savefig('Results_default.pdf')"
   ],
   "metadata": {
    "collapsed": false,
    "pycharm": {
     "name": "#%%\n"
    }
   }
  },
  {
   "cell_type": "code",
   "execution_count": 16,
   "outputs": [],
   "source": [
    "#using shannon radii model\n",
    "CM = CationMutator.from_json('sr_lambda.json')\n",
    "SP=StructurePredictor(CM, DB, \"Experimental\")"
   ],
   "metadata": {
    "collapsed": false,
    "pycharm": {
     "name": "#%%\n"
    }
   }
  },
  {
   "cell_type": "code",
   "execution_count": 17,
   "outputs": [],
   "source": [
    "#Checking if compositions exist in the probability dataframe and then using Structure Predictor on a list of test compositions\n",
    "cond_df = CM.complete_cond_probs()\n",
    "ions = list(cond_df.columns)\n",
    "\n",
    "comps_copy = comps[['A', 'B']]\n",
    "\n",
    "df_copy_bool = comps_copy.isin(ions)\n",
    "x = comps_copy[df_copy_bool].fillna(0)\n",
    "x = x[x.A != 0]\n",
    "x = x[x.B != 0]\n",
    "x = x.reset_index(drop=True)\n",
    "inner_merged=pd.merge(x, comps)"
   ],
   "metadata": {
    "collapsed": false,
    "pycharm": {
     "name": "#%%\n"
    }
   }
  },
  {
   "cell_type": "code",
   "execution_count": 18,
   "outputs": [
    {
     "name": "stdout",
     "output_type": "stream",
     "text": [
      "Time taken to predict the crystal structures of our search space of 196 with a threshold of 0.0001 is 0:00:01.152517 \n",
      "\n"
     ]
    }
   ],
   "source": [
    "#Create a list of test species\n",
    "test_specs_list=[[parse_spec(inner_merged[\"A\"][i]),parse_spec(inner_merged[\"B\"][i])] for i in range(inner_merged.shape[0])]\n",
    "\n",
    "#Set up a for loop to store\n",
    "from datetime import datetime\n",
    "start = datetime.now()\n",
    "from operator import itemgetter\n",
    "preds=[]\n",
    "parents_list=[]\n",
    "probs_list=[]\n",
    "for test_specs in test_specs_list:\n",
    "    predictions=list(SP.predict_structs(test_specs, thresh=10e-4, include_same=False ))\n",
    "    predictions.sort(key=itemgetter(1), reverse=True)\n",
    "    parents = [x[2].composition() for x in predictions]\n",
    "    probs = [x[1] for x in predictions]\n",
    "    preds.append(predictions)\n",
    "    parents_list.append(parents)\n",
    "    probs_list.append(probs)\n",
    "print(f\"Time taken to predict the crystal structures of our search space of {inner_merged.shape[0]} with a threshold of 0.0001 is {datetime.now()-start} \")\n",
    "#print(parents_list)\n",
    "print(\"\")\n",
    "#print(probs_list)"
   ],
   "metadata": {
    "collapsed": false,
    "pycharm": {
     "name": "#%%\n"
    }
   }
  },
  {
   "cell_type": "code",
   "execution_count": 19,
   "outputs": [
    {
     "data": {
      "text/plain": "      A     B Pretty Formula  \\\n0   H1+   F1-             HF   \n1   H1+  Cl1-            HCl   \n2   H1+  Br1-            HBr   \n3   H1+   I1-             HI   \n4  Li1+   F1-            LiF   \n\n                                 predicted_structure  probability  \\\n0  F1- H1+\\n1.0\\n6.160672 6.203084 0.0\\n-6.160672...     0.009866   \n1  Cl1- H1+\\n1.0\\n6.160672 6.203084 0.0\\n-6.16067...     0.010865   \n2  Br1- H1+\\n1.0\\n6.160672 6.203084 0.0\\n-6.16067...     0.011019   \n3  H1+ I1-\\n1.0\\n2.785687 -3.663721 0.0\\n2.785687...     0.010154   \n4  F1- Li1+\\n1.0\\n2.283037 -3.954335 0.0\\n2.28303...     0.009866   \n\n  Parent formula                                   parent_structure  \n0             HI  H1+ I1-\\n1.0\\n6.160672 6.203084 0.0\\n-6.160672...  \n1             HI  H1+ I1-\\n1.0\\n6.160672 6.203084 0.0\\n-6.160672...  \n2             HI  H1+ I1-\\n1.0\\n6.160672 6.203084 0.0\\n-6.160672...  \n3            HBr  Br1- H1+\\n1.0\\n2.785687 -3.663721 0.0\\n2.78568...  \n4            LiI  I1- Li1+\\n1.0\\n2.283037 -3.954335 0.0\\n2.28303...  ",
      "text/html": "<div>\n<style scoped>\n    .dataframe tbody tr th:only-of-type {\n        vertical-align: middle;\n    }\n\n    .dataframe tbody tr th {\n        vertical-align: top;\n    }\n\n    .dataframe thead th {\n        text-align: right;\n    }\n</style>\n<table border=\"1\" class=\"dataframe\">\n  <thead>\n    <tr style=\"text-align: right;\">\n      <th></th>\n      <th>A</th>\n      <th>B</th>\n      <th>Pretty Formula</th>\n      <th>predicted_structure</th>\n      <th>probability</th>\n      <th>Parent formula</th>\n      <th>parent_structure</th>\n    </tr>\n  </thead>\n  <tbody>\n    <tr>\n      <th>0</th>\n      <td>H1+</td>\n      <td>F1-</td>\n      <td>HF</td>\n      <td>F1- H1+\\n1.0\\n6.160672 6.203084 0.0\\n-6.160672...</td>\n      <td>0.009866</td>\n      <td>HI</td>\n      <td>H1+ I1-\\n1.0\\n6.160672 6.203084 0.0\\n-6.160672...</td>\n    </tr>\n    <tr>\n      <th>1</th>\n      <td>H1+</td>\n      <td>Cl1-</td>\n      <td>HCl</td>\n      <td>Cl1- H1+\\n1.0\\n6.160672 6.203084 0.0\\n-6.16067...</td>\n      <td>0.010865</td>\n      <td>HI</td>\n      <td>H1+ I1-\\n1.0\\n6.160672 6.203084 0.0\\n-6.160672...</td>\n    </tr>\n    <tr>\n      <th>2</th>\n      <td>H1+</td>\n      <td>Br1-</td>\n      <td>HBr</td>\n      <td>Br1- H1+\\n1.0\\n6.160672 6.203084 0.0\\n-6.16067...</td>\n      <td>0.011019</td>\n      <td>HI</td>\n      <td>H1+ I1-\\n1.0\\n6.160672 6.203084 0.0\\n-6.160672...</td>\n    </tr>\n    <tr>\n      <th>3</th>\n      <td>H1+</td>\n      <td>I1-</td>\n      <td>HI</td>\n      <td>H1+ I1-\\n1.0\\n2.785687 -3.663721 0.0\\n2.785687...</td>\n      <td>0.010154</td>\n      <td>HBr</td>\n      <td>Br1- H1+\\n1.0\\n2.785687 -3.663721 0.0\\n2.78568...</td>\n    </tr>\n    <tr>\n      <th>4</th>\n      <td>Li1+</td>\n      <td>F1-</td>\n      <td>LiF</td>\n      <td>F1- Li1+\\n1.0\\n2.283037 -3.954335 0.0\\n2.28303...</td>\n      <td>0.009866</td>\n      <td>LiI</td>\n      <td>I1- Li1+\\n1.0\\n2.283037 -3.954335 0.0\\n2.28303...</td>\n    </tr>\n  </tbody>\n</table>\n</div>"
     },
     "execution_count": 19,
     "metadata": {},
     "output_type": "execute_result"
    }
   ],
   "source": [
    "#Storing and filtering the results in dataframe\n",
    "pred_structs = []\n",
    "probs = []\n",
    "parent_structs = []\n",
    "parent_pretty_formula = []\n",
    "for i in preds:\n",
    "    if len(i) == 0:\n",
    "        pred_structs.append(None)\n",
    "        probs.append(None)\n",
    "        parent_structs.append(None)\n",
    "        parent_pretty_formula.append(None)\n",
    "    else:\n",
    "        pred_structs.append(i[0][0].as_poscar())\n",
    "        probs.append(i[0][1])\n",
    "        parent_structs.append(i[0][2].as_poscar())\n",
    "        parent_pretty_formula.append(Structure.from_str(i[0][2].as_poscar(), fmt=\"poscar\").composition.reduced_formula)\n",
    "\n",
    "#add results to dataframe\n",
    "inner_merged[\"predicted_structure\"] = pred_structs\n",
    "inner_merged[\"probability\"] = probs\n",
    "inner_merged[\"Parent formula\"] = parent_pretty_formula\n",
    "inner_merged[\"parent_structure\"] = parent_structs\n",
    "results=inner_merged.dropna()\n",
    "results=results.reset_index(drop=True)\n",
    "results.head()"
   ],
   "metadata": {
    "collapsed": false,
    "pycharm": {
     "name": "#%%\n"
    }
   }
  },
  {
   "cell_type": "code",
   "execution_count": 20,
   "outputs": [
    {
     "name": "stderr",
     "output_type": "stream",
     "text": [
      "C:\\Users\\ashis\\AppData\\Local\\Programs\\Python\\Python310\\lib\\site-packages\\pymatgen\\analysis\\local_env.py:4121: UserWarning: No oxidation states specified on sites! For better results, set the site oxidation states in the structure.\n",
      "  warnings.warn(\n",
      "C:\\Users\\ashis\\AppData\\Local\\Programs\\Python\\Python310\\lib\\site-packages\\pymatgen\\analysis\\local_env.py:3924: UserWarning: CrystalNN: cannot locate an appropriate radius, covalent or atomic radii will be used, this can lead to non-optimal results.\n",
      "  warnings.warn(\n"
     ]
    },
    {
     "name": "stdout",
     "output_type": "stream",
     "text": [
      "The prediction accuracy is 52.976190476190474%\n"
     ]
    }
   ],
   "source": [
    "#Validating the predicted coordination numbers with the 536 experimental coordination numbers in the database\n",
    "\n",
    "prediction_accuracy = []\n",
    "CN_exp = []\n",
    "CN_pred = []\n",
    "crystal = CrystalNN()\n",
    "for ind in results.index:\n",
    "    comp = SmactStructure.from_poscar(results['predicted_structure'][ind]).composition()\n",
    "    experimental_structure = DB.get_structs(comp,'Experimental')\n",
    "    if len(experimental_structure)!=0:\n",
    "        experimental_structure = Structure.from_str(experimental_structure[0].as_poscar(), fmt='poscar')\n",
    "        cn_exp = crystal.get_cn(experimental_structure, n=0)\n",
    "        predicted_structure = Structure.from_str(results['predicted_structure'][ind], fmt='poscar')\n",
    "        cn_pred = crystal.get_cn(predicted_structure, n=0)\n",
    "\n",
    "        CN_exp.append(cn_exp)\n",
    "        CN_pred.append(cn_pred)\n",
    "\n",
    "        if cn_exp == cn_pred:\n",
    "            prediction_accuracy.append('Correct')\n",
    "        else:\n",
    "            prediction_accuracy.append('Incorrect')\n",
    "\n",
    "success_percent = (prediction_accuracy.count('Correct')/len(prediction_accuracy))*100\n",
    "print(f'The prediction accuracy is {success_percent}%')"
   ],
   "metadata": {
    "collapsed": false,
    "pycharm": {
     "name": "#%%\n"
    }
   }
  },
  {
   "cell_type": "code",
   "execution_count": 21,
   "outputs": [],
   "source": [
    "#filtering results to include only those that match structures in the Database\n",
    "\n",
    "in_db=[]\n",
    "for i in results[\"predicted_structure\"]:\n",
    "    comp_=SmactStructure.from_poscar(i).composition()\n",
    "    if len(DB.get_structs(comp_, \"Experimental\"))!=0:\n",
    "        in_db.append(\"Yes\")\n",
    "    else:\n",
    "        in_db.append(\"No\")\n",
    "results[\"In DB?\"]=in_db\n",
    "\n",
    "filtered_results = results[results['In DB?']=='Yes']\n",
    "filtered_results = filtered_results.reset_index(drop=True)\n",
    "filtered_results['Experimental CN'] = CN_exp\n",
    "filtered_results['Predicted CN'] = CN_pred\n",
    "filtered_results['Validation'] = prediction_accuracy\n",
    "filtered_results.to_csv('shannon_radii_results.csv')"
   ],
   "metadata": {
    "collapsed": false,
    "pycharm": {
     "name": "#%%\n"
    }
   }
  },
  {
   "cell_type": "code",
   "execution_count": 22,
   "outputs": [
    {
     "data": {
      "text/plain": "<Figure size 12800x9600 with 0 Axes>"
     },
     "metadata": {},
     "output_type": "display_data"
    },
    {
     "data": {
      "text/plain": "<Figure size 1000x1000 with 1 Axes>",
      "image/png": "[encoded data removed]"
     },
     "metadata": {},
     "output_type": "display_data"
    }
   ],
   "source": [
    "#for visualising the predicted co-ordination numbers\n",
    "\n",
    "import matplotlib.pyplot as plt\n",
    "\n",
    "cn_df = filtered_results[['Experimental CN', 'Predicted CN']]\n",
    "temp1 = pd.DataFrame(cn_df['Experimental CN'].value_counts())\n",
    "temp1.index.name = 'Co-ordination numbers'\n",
    "temp2 = pd.DataFrame(cn_df['Predicted CN'].value_counts())\n",
    "temp2.index.name = 'Co-ordination numbers'\n",
    "for_plot = temp2.merge(temp1, how='left', left_on='Co-ordination numbers', right_on='Co-ordination numbers')\n",
    "indices = list(range(len(for_plot)))\n",
    "for_plot['index'] = indices\n",
    "for_plot = for_plot.reset_index()\n",
    "del for_plot['index']\n",
    "for_plot = for_plot.sort_values('Co-ordination numbers', ascending = True).reset_index(drop=True)\n",
    "mpl.rc_file_defaults()\n",
    "plt.rcParams.update({'font.size': 15})\n",
    "plt.figure(dpi = 2000)\n",
    "for_plot.plot(x = 'Co-ordination numbers', y=['Predicted CN','Experimental CN'], kind='bar', figsize = (10,10), ylabel = 'Number of materials' )\n",
    "plt.xticks(rotation=90)\n",
    "plt.savefig('Results_radii.pdf')"
   ],
   "metadata": {
    "collapsed": false,
    "pycharm": {
     "name": "#%%\n"
    }
   }
  },
  {
   "cell_type": "code",
   "execution_count": 23,
   "outputs": [],
   "source": [
    "df1 = pd.read_csv('Data-mined_lambda_results.csv')\n",
    "df2 = pd.read_csv('shannon_radii_results.csv')"
   ],
   "metadata": {
    "collapsed": false,
    "pycharm": {
     "name": "#%%\n"
    }
   }
  },
  {
   "cell_type": "code",
   "execution_count": 24,
   "outputs": [
    {
     "data": {
      "text/plain": "<Figure size 1000x1000 with 1 Axes>",
      "image/png": "[encoded data removed]"
     },
     "metadata": {},
     "output_type": "display_data"
    }
   ],
   "source": [
    "plt.figure(figsize=(10,10))\n",
    "plt.hist(df1['probability'], bins=50, alpha=0.5, label='Default', histtype='step')\n",
    "plt.hist(df2['probability'], bins=50, alpha=0.5, label='Shannon radii', histtype='step')\n",
    "plt.legend()\n",
    "plt.xlabel('Probabilities')\n",
    "plt.ylabel('Counts')\n",
    "plt.savefig('Control_probs_compare.pdf')"
   ],
   "metadata": {
    "collapsed": false,
    "pycharm": {
     "name": "#%%\n"
    }
   }
  }
 ],
 "metadata": {
  "kernelspec": {
   "display_name": "Python 3",
   "language": "python",
   "name": "python3"
  },
  "language_info": {
   "codemirror_mode": {
    "name": "ipython",
    "version": 2
   },
   "file_extension": ".py",
   "mimetype": "text/x-python",
   "name": "python",
   "nbconvert_exporter": "python",
   "pygments_lexer": "ipython2",
   "version": "2.7.6"
  }
 },
 "nbformat": 4,
 "nbformat_minor": 0
}