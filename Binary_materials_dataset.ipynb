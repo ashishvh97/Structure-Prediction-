{
 "cells": [
  {
   "cell_type": "code",
   "execution_count": 1,
   "outputs": [
    {
     "name": "stderr",
     "output_type": "stream",
     "text": [
      "C:\\Users\\ashis\\AppData\\Local\\Programs\\Python\\Python310\\lib\\site-packages\\pymatgen\\analysis\\phase_diagram.py:24: TqdmExperimentalWarning: Using `tqdm.autonotebook.tqdm` in notebook mode. Use `tqdm.tqdm` instead to force console mode (e.g. in jupyter console)\n",
      "  from tqdm.autonotebook import tqdm\n",
      "C:\\Users\\ashis\\AppData\\Local\\Programs\\Python\\Python310\\lib\\site-packages\\pymatgen\\ext\\matproj.py:179: UserWarning: You are using the legacy MPRester, which is deprecated. If you are not a power user, ie., you do not have a lot of legacy code that uses many different MPRester methods, it is recommended you get a new API key from the new Materials Project front end. Once you use get your new API key, using the new API key will automatically route you to using the new MPRester.\n",
      "  warnings.warn(\n"
     ]
    }
   ],
   "source": [
    "import pymatgen\n",
    "from pymatgen.ext.matproj import MPRester\n",
    "import pandas as pd\n",
    "import matplotlib.pyplot as plt\n",
    "from pymatgen.core import Composition\n",
    "import re\n",
    "import pprint\n",
    "from pymatgen.analysis.chemenv.coordination_environments.coordination_geometry_finder import LocalGeometryFinder\n",
    "import logging\n",
    "m = MPRester(\"Z51OJasyeWwk4pci\") #use API key generated in Materials Project Dashboard"
   ],
   "metadata": {
    "collapsed": false,
    "pycharm": {
     "name": "#%%\n"
    }
   }
  },
  {
   "cell_type": "code",
   "execution_count": 2,
   "outputs": [
    {
     "name": "stderr",
     "output_type": "stream",
     "text": [
      "100%|█████████████████████████████████████████████████████████████████████████████████████████████████████████████████████████████████████████████████████████████████████████████████████████████████████████████| 2201/2201 [00:02<00:00, 836.35it/s]\n"
     ]
    }
   ],
   "source": [
    "#query the MP database for binary materials with 1:1 stoichiometry\n",
    "anon_formula = {'A':1, 'B':1}\n",
    "binary = m.query(criteria = {'anonymous_formula':anon_formula, 'icsd_ids':{'$gte':0}}, properties = ['pretty_formula', 'material_id', 'spacegroup.symbol', 'spacegroup.crystal_system', 'icsd_ids', 'e_above_hull', 'band_gap'])"
   ],
   "metadata": {
    "collapsed": false,
    "pycharm": {
     "name": "#%%\n"
    }
   }
  },
  {
   "cell_type": "code",
   "execution_count": 3,
   "outputs": [],
   "source": [
    "#Keeping only the lowest energy structures for each material\n",
    "binary_df = pd.DataFrame(binary)\n",
    "df = binary_df.sort_values(['pretty_formula', 'e_above_hull'])\n",
    "df = df.reset_index(drop = True)\n",
    "df = df.drop_duplicates('pretty_formula', keep = 'first')\n",
    "df = df.reset_index(drop=True)"
   ],
   "metadata": {
    "collapsed": false,
    "pycharm": {
     "name": "#%%\n"
    }
   }
  },
  {
   "cell_type": "code",
   "execution_count": 4,
   "outputs": [
    {
     "data": {
      "text/plain": "cubic           613\northorhombic    282\nhexagonal       120\ntetragonal      118\nmonoclinic       50\ntrigonal         33\ntriclinic         5\nName: spacegroup.crystal_system, dtype: int64"
     },
     "execution_count": 4,
     "metadata": {},
     "output_type": "execute_result"
    }
   ],
   "source": [
    "df['spacegroup.crystal_system'].value_counts()"
   ],
   "metadata": {
    "collapsed": false,
    "pycharm": {
     "name": "#%%\n"
    }
   }
  },
  {
   "cell_type": "code",
   "execution_count": 5,
   "outputs": [],
   "source": [
    "df.to_csv('Binary_materials.csv')"
   ],
   "metadata": {
    "collapsed": false,
    "pycharm": {
     "name": "#%%\n"
    }
   }
  },
  {
   "cell_type": "code",
   "execution_count": 6,
   "outputs": [
    {
     "data": {
      "text/plain": "<Figure size 1152x648 with 1 Axes>",
      "image/png": "[encoded data removed]"
     },
     "metadata": {
      "needs_background": "light"
     },
     "output_type": "display_data"
    }
   ],
   "source": [
    "ax =df['spacegroup.crystal_system'].value_counts().plot(kind='bar', figsize = (16,9), color = 'steelblue')\n",
    "ax.set_xlabel('Crystal System')\n",
    "ax.set_ylabel('Frequency')\n",
    "plt.savefig('Crystal_systems.pdf')"
   ],
   "metadata": {
    "collapsed": false,
    "pycharm": {
     "name": "#%%\n"
    }
   }
  },
  {
   "cell_type": "code",
   "execution_count": 7,
   "outputs": [],
   "source": [
    "#function to return cation oxidation state\n",
    "def cat_os(x):\n",
    "    comp = Composition(x)\n",
    "    os = comp.oxi_state_guesses()\n",
    "    if len(os) > 0:\n",
    "        oxidation_states = list(os[0].values())\n",
    "    else:\n",
    "        oxidation_states = [0,0]\n",
    "\n",
    "    return oxidation_states[0]\n",
    "\n",
    "#function to return anion oxidation state\n",
    "\n",
    "def an_os(x):\n",
    "    comp = Composition(x)\n",
    "    os = comp.oxi_state_guesses()\n",
    "    if len(os) > 0:\n",
    "        oxidation_states = list(os[0].values())\n",
    "    else:\n",
    "        oxidation_states = [0,0]\n",
    "\n",
    "    return oxidation_states[1]"
   ],
   "metadata": {
    "collapsed": false,
    "pycharm": {
     "name": "#%%\n"
    }
   }
  },
  {
   "cell_type": "code",
   "execution_count": 8,
   "outputs": [
    {
     "data": {
      "text/plain": "     pretty_formula material_id spacegroup.symbol spacegroup.crystal_system  \\\n0              AgBr    mp-23231             Fm-3m                     cubic   \n1               AgC  mp-1008653             Fm-3m                     cubic   \n2              AgCl    mp-22922             Fm-3m                     cubic   \n3               AgF     mp-7592             Fm-3m                     cubic   \n4               AgI    mp-22925             F-43m                     cubic   \n...             ...         ...               ...                       ...   \n1216            ZrS     mp-7859            P4/nmm                tetragonal   \n1217           ZrSb   mp-569671             P2_13                     cubic   \n1218           ZrSi      mp-893              Pnma              orthorhombic   \n1219           ZrTe     mp-1539             P-6m2                 hexagonal   \n1220           ZrZn   mp-570276             Pm-3m                     cubic   \n\n                                               icsd_ids  e_above_hull  \\\n0     [56548, 56547, 65061, 53850, 56546, 52246, 650...      0.037294   \n1                                              [183175]      2.235510   \n2                  [56540, 56539, 157535, 56538, 64734]      0.000000   \n3                                               [18008]      0.000000   \n4     [164964, 52361, 164960, 164965, 53851, 161579,...      0.000000   \n...                                                 ...           ...   \n1216                                            [24754]      0.000000   \n1217                                           [107692]      0.000000   \n1218                     [652609, 16771, 652613, 43245]      0.000000   \n1219                   [653218, 410867, 657484, 653209]      0.000000   \n1220                           [181290, 106235, 653515]      0.000000   \n\n      band_gap  cation_oxidation_state  anion_oxidation_state  \n0       0.7946                     1.0                   -1.0  \n1       0.0000                     2.0                   -2.0  \n2       1.2003                     1.0                   -1.0  \n3       0.0000                     1.0                   -1.0  \n4       1.7236                     1.0                   -1.0  \n...        ...                     ...                    ...  \n1216    0.0000                     2.0                   -2.0  \n1217    0.0000                     3.0                   -3.0  \n1218    0.0000                     4.0                   -4.0  \n1219    0.0000                     2.0                   -2.0  \n1220    0.0231                     0.0                    0.0  \n\n[1221 rows x 9 columns]",
      "text/html": "<div>\n<style scoped>\n    .dataframe tbody tr th:only-of-type {\n        vertical-align: middle;\n    }\n\n    .dataframe tbody tr th {\n        vertical-align: top;\n    }\n\n    .dataframe thead th {\n        text-align: right;\n    }\n</style>\n<table border=\"1\" class=\"dataframe\">\n  <thead>\n    <tr style=\"text-align: right;\">\n      <th></th>\n      <th>pretty_formula</th>\n      <th>material_id</th>\n      <th>spacegroup.symbol</th>\n      <th>spacegroup.crystal_system</th>\n      <th>icsd_ids</th>\n      <th>e_above_hull</th>\n      <th>band_gap</th>\n      <th>cation_oxidation_state</th>\n      <th>anion_oxidation_state</th>\n    </tr>\n  </thead>\n  <tbody>\n    <tr>\n      <th>0</th>\n      <td>AgBr</td>\n      <td>mp-23231</td>\n      <td>Fm-3m</td>\n      <td>cubic</td>\n      <td>[56548, 56547, 65061, 53850, 56546, 52246, 650...</td>\n      <td>0.037294</td>\n      <td>0.7946</td>\n      <td>1.0</td>\n      <td>-1.0</td>\n    </tr>\n    <tr>\n      <th>1</th>\n      <td>AgC</td>\n      <td>mp-1008653</td>\n      <td>Fm-3m</td>\n      <td>cubic</td>\n      <td>[183175]</td>\n      <td>2.235510</td>\n      <td>0.0000</td>\n      <td>2.0</td>\n      <td>-2.0</td>\n    </tr>\n    <tr>\n      <th>2</th>\n      <td>AgCl</td>\n      <td>mp-22922</td>\n      <td>Fm-3m</td>\n      <td>cubic</td>\n      <td>[56540, 56539, 157535, 56538, 64734]</td>\n      <td>0.000000</td>\n      <td>1.2003</td>\n      <td>1.0</td>\n      <td>-1.0</td>\n    </tr>\n    <tr>\n      <th>3</th>\n      <td>AgF</td>\n      <td>mp-7592</td>\n      <td>Fm-3m</td>\n      <td>cubic</td>\n      <td>[18008]</td>\n      <td>0.000000</td>\n      <td>0.0000</td>\n      <td>1.0</td>\n      <td>-1.0</td>\n    </tr>\n    <tr>\n      <th>4</th>\n      <td>AgI</td>\n      <td>mp-22925</td>\n      <td>F-43m</td>\n      <td>cubic</td>\n      <td>[164964, 52361, 164960, 164965, 53851, 161579,...</td>\n      <td>0.000000</td>\n      <td>1.7236</td>\n      <td>1.0</td>\n      <td>-1.0</td>\n    </tr>\n    <tr>\n      <th>...</th>\n      <td>...</td>\n      <td>...</td>\n      <td>...</td>\n      <td>...</td>\n      <td>...</td>\n      <td>...</td>\n      <td>...</td>\n      <td>...</td>\n      <td>...</td>\n    </tr>\n    <tr>\n      <th>1216</th>\n      <td>ZrS</td>\n      <td>mp-7859</td>\n      <td>P4/nmm</td>\n      <td>tetragonal</td>\n      <td>[24754]</td>\n      <td>0.000000</td>\n      <td>0.0000</td>\n      <td>2.0</td>\n      <td>-2.0</td>\n    </tr>\n    <tr>\n      <th>1217</th>\n      <td>ZrSb</td>\n      <td>mp-569671</td>\n      <td>P2_13</td>\n      <td>cubic</td>\n      <td>[107692]</td>\n      <td>0.000000</td>\n      <td>0.0000</td>\n      <td>3.0</td>\n      <td>-3.0</td>\n    </tr>\n    <tr>\n      <th>1218</th>\n      <td>ZrSi</td>\n      <td>mp-893</td>\n      <td>Pnma</td>\n      <td>orthorhombic</td>\n      <td>[652609, 16771, 652613, 43245]</td>\n      <td>0.000000</td>\n      <td>0.0000</td>\n      <td>4.0</td>\n      <td>-4.0</td>\n    </tr>\n    <tr>\n      <th>1219</th>\n      <td>ZrTe</td>\n      <td>mp-1539</td>\n      <td>P-6m2</td>\n      <td>hexagonal</td>\n      <td>[653218, 410867, 657484, 653209]</td>\n      <td>0.000000</td>\n      <td>0.0000</td>\n      <td>2.0</td>\n      <td>-2.0</td>\n    </tr>\n    <tr>\n      <th>1220</th>\n      <td>ZrZn</td>\n      <td>mp-570276</td>\n      <td>Pm-3m</td>\n      <td>cubic</td>\n      <td>[181290, 106235, 653515]</td>\n      <td>0.000000</td>\n      <td>0.0231</td>\n      <td>0.0</td>\n      <td>0.0</td>\n    </tr>\n  </tbody>\n</table>\n<p>1221 rows × 9 columns</p>\n</div>"
     },
     "execution_count": 8,
     "metadata": {},
     "output_type": "execute_result"
    }
   ],
   "source": [
    "df['cation_oxidation_state'] = df['pretty_formula'].apply(cat_os)\n",
    "df['anion_oxidation_state'] = df['pretty_formula'].apply(an_os)\n",
    "df"
   ],
   "metadata": {
    "collapsed": false,
    "pycharm": {
     "name": "#%%\n"
    }
   }
  },
  {
   "cell_type": "code",
   "execution_count": 9,
   "outputs": [],
   "source": [
    "#dropping the compositions with no oxidation states (cation_oxidation_state = 0)\n",
    "df = df[df.cation_oxidation_state != 0]\n",
    "df = df.reset_index(drop=True)"
   ],
   "metadata": {
    "collapsed": false,
    "pycharm": {
     "name": "#%%\n"
    }
   }
  },
  {
   "cell_type": "code",
   "execution_count": 10,
   "outputs": [],
   "source": [
    "#function to estimate coordination numbers\n",
    "from pymatgen.analysis.local_env import CrystalNN\n",
    "def co_ordination_num(y):\n",
    "  structure = m.get_structure_by_material_id(y)\n",
    "  crystal = CrystalNN()\n",
    "  cn = crystal.get_cn(structure, 0)\n",
    "  return cn"
   ],
   "metadata": {
    "collapsed": false,
    "pycharm": {
     "name": "#%%\n"
    }
   }
  },
  {
   "cell_type": "code",
   "execution_count": 11,
   "outputs": [
    {
     "name": "stderr",
     "output_type": "stream",
     "text": [
      "  0%|                                                                                                                                                                                                                          | 0/517 [00:00<?, ?it/s]C:\\Users\\ashis\\AppData\\Local\\Programs\\Python\\Python310\\lib\\site-packages\\pymatgen\\analysis\\local_env.py:4121: UserWarning: No oxidation states specified on sites! For better results, set the site oxidation states in the structure.\n",
      "  warnings.warn(\n",
      "C:\\Users\\ashis\\AppData\\Local\\Programs\\Python\\Python310\\lib\\site-packages\\pymatgen\\analysis\\local_env.py:3924: UserWarning: CrystalNN: cannot locate an appropriate radius, covalent or atomic radii will be used, this can lead to non-optimal results.\n",
      "  warnings.warn(\n",
      "100%|████████████████████████████████████████████████████████████████████████████████████████████████████████████████████████████████████████████████████████████████████████████████████████████████████████████████| 517/517 [01:57<00:00,  4.39it/s]\n"
     ]
    }
   ],
   "source": [
    "from tqdm import tqdm\n",
    "tqdm.pandas()\n",
    "df['coordination_number'] = df['material_id'].progress_apply(co_ordination_num)"
   ],
   "metadata": {
    "collapsed": false,
    "pycharm": {
     "name": "#%%\n"
    }
   }
  },
  {
   "cell_type": "code",
   "execution_count": 12,
   "outputs": [],
   "source": [
    "df.to_csv('rr_rules_dataset.csv')"
   ],
   "metadata": {
    "collapsed": false,
    "pycharm": {
     "name": "#%%\n"
    }
   }
  }
 ],
 "metadata": {
  "kernelspec": {
   "display_name": "Python 3",
   "language": "python",
   "name": "python3"
  },
  "language_info": {
   "codemirror_mode": {
    "name": "ipython",
    "version": 2
   },
   "file_extension": ".py",
   "mimetype": "text/x-python",
   "name": "python",
   "nbconvert_exporter": "python",
   "pygments_lexer": "ipython2",
   "version": "2.7.6"
  }
 },
 "nbformat": 4,
 "nbformat_minor": 0
}